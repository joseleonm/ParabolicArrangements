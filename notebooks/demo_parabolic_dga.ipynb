{
 "cells": [
  {
   "cell_type": "markdown",
   "id": "title",
   "metadata": {},
   "source": [
    "# Parabolic DGA Demo (Type A₅, Non-3-Equal)\n",
    "\n",
    "This notebook demonstrates the Sage module `parabolic_dga.sage`:\n",
    "\n",
    "- builds the parabolic relative chain complex,\n",
    "- computes Betti numbers over GF(2) and ℤ,\n",
    "- verifies `d^2 = 0` and the Leibniz rule,\n",
    "- reproduces Baryshnikov's case (A₅ non-3-equal): Betti = (1, 111, 20) over GF(2).\n",
    "\n",
    "**Reference:** J. Cantarero – J. L. León-Medina, *The Cohomology Ring of Real Parabolic Arrangements*."
   ]
  },
  {
   "cell_type": "code",
   "execution_count": null,
   "id": "load-module",
   "metadata": {},
   "outputs": [],
   "source": [
    "load('parabolic_dga.sage')"
   ]
  },
  {
   "cell_type": "markdown",
   "id": "build-a5",
   "metadata": {},
   "source": [
    "## Build Type A₅ and the non-3-equal arrangement\n",
    "\n",
    "We remove all parabolic cosets whose index set J contains a consecutive block of length k−1 = 2."
   ]
  },
  {
   "cell_type": "code",
   "execution_count": null,
   "id": "build-ideal",
   "metadata": {},
   "outputs": [],
   "source": [
    "W, P, Plist = build_W_P(\"A\", 5)\n",
    "Delta = ideal_non_k_equal_A(W, Plist, k=3)  # non-3-equal\n",
    "D = ParabolicDGA(W, P, Plist, Delta)\n",
    "\n",
    "# Inspect chain group sizes by degree k = |J|\n",
    "sizes = {k: len(v) for k, v in sorted(D.by_k.items())}\n",
    "sizes"
   ]
  },
  {
   "cell_type": "markdown",
   "id": "self-tests",
   "metadata": {},
   "source": [
    "## Internal consistency checks\n",
    "\n",
    "- Verify `d^2 = 0` over ℤ and GF(2)  \n",
    "- Verify the Leibniz rule  \n",
    "- (Optional) Sanity check Betti numbers for A₅ non-3-equal"
   ]
  },
  {
   "cell_type": "code",
   "execution_count": null,
   "id": "run-self-test",
   "metadata": {},
   "outputs": [],
   "source": [
    "# Quick internal checks (no Betti check)\n",
    "D.self_test(trials=30, check_betti=False, verbose=True)"
   ]
  },
  {
   "cell_type": "code",
   "execution_count": null,
   "id": "run-self-test-betti",
   "metadata": {
    "tags": [
     "parameters"
    ]
   },
   "outputs": [],
   "source": [
    "# Optional: also verify the expected Betti numbers for A5 non-3-equal\n",
    "D.self_test(trials=30, check_betti=True, verbose=True)"
   ]
  },
  {
   "cell_type": "markdown",
   "id": "bettis",
   "metadata": {},
   "source": [
    "## Betti numbers\n",
    "\n",
    "- Over GF(2) we expect: (1, 111, 20) for degrees k = 0,1,2.  \n",
    "- Over ℤ we compute **ranks** (torsion ignored)."
   ]
  },
  {
   "cell_type": "code",
   "execution_count": null,
   "id": "compute-betti",
   "metadata": {},
   "outputs": [],
   "source": [
    "b2 = D.betti_numbers(base_ring=GF(2))\n",
    "bZ = D.betti_numbers(base_ring=ZZ)\n",
    "print(\"Betti over GF(2):\", b2)\n",
    "print(\"Betti over ZZ (ranks):\", bZ)\n",
    "((b2.get(0,0), b2.get(1,0), b2.get(2,0)) == (1, 111, 20))"
   ]
  },
  {
   "cell_type": "markdown",
   "id": "product",
   "metadata": {},
   "source": [
    "## Minimal intersection product\n",
    "\n",
    "We multiply two degree-1 basis cochains supported on `(e,(1,))` and `(e,(3,))` to get a degree-2 element."
   ]
  },
  {
   "cell_type": "code",
   "execution_count": null,
   "id": "product-code",
   "metadata": {},
   "outputs": [],
   "source": [
    "C1 = D.by_k.get(1, [])\n",
    "idx1 = {c:i for i,c in enumerate(C1)}\n",
    "e = W.one()\n",
    "\n",
    "v1 = [0]*len(C1); v2 = [0]*len(C1)\n",
    "if (e,(1,)) in idx1 and (e,(3,)) in idx1:\n",
    "    v1[idx1[(e,(1,))]] = 1\n",
    "    v2[idx1[(e,(3,))]] = 1\n",
    "\n",
    "out_ZZ  = D.product_sparse(v1, 1, v2, 1, base_ring=ZZ)\n",
    "out_GF2 = D.product_sparse(v1, 1, v2, 1, base_ring=GF(2))\n",
    "out_ZZ, out_GF2"
   ]
  },
  {
   "cell_type": "markdown",
   "id": "cohomology-class",
   "metadata": {},
   "source": [
    "### Optional: Check if the product represents a nonzero cohomology class\n",
    "\n",
    "We test whether the product is in `Ker(d^2)` but not in `Im(d^1)` over GF(2),\n",
    "which indicates a nonzero class in `H^2`."
   ]
  },
  {
   "cell_type": "code",
   "execution_count": null,
   "id": "kernel-image",
   "metadata": {},
   "outputs": [],
   "source": [
    "mats2 = D.boundary_matrices(base_ring=GF(2))\n",
    "d1 = mats2.get(1, None)\n",
    "d2 = mats2.get(2, None)\n",
    "C2 = D.by_k.get(2, [])\n",
    "res = None\n",
    "if d1 is not None and d2 is not None and len(C2)>0:\n",
    "    from sage.all import vector as svec\n",
    "    out2 = svec(GF(2), [int(a)%2 for a in out_ZZ])\n",
    "    Im1  = d1.transpose().row_space()\n",
    "    Ker2 = d2.transpose().right_kernel()\n",
    "    res = (out2 in Ker2, out2 in Im1)\n",
    "res"
   ]
  }
 ],
 "metadata": {
  "kernelspec": {
   "display_name": "SageMath",
   "language": "sage",
   "name": "sagemath"
  },
  "language_info": {
   "name": "sage"
  }
 },
 "nbformat": 4,
 "nbformat_minor": 5
}
